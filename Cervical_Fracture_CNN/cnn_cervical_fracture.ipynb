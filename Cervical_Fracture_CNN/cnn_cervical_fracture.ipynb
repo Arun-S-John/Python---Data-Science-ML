{
  "nbformat": 4,
  "nbformat_minor": 0,
  "metadata": {
    "colab": {
      "provenance": [],
      "gpuType": "T4"
    },
    "kernelspec": {
      "name": "python3",
      "display_name": "Python 3"
    },
    "language_info": {
      "name": "python"
    },
    "accelerator": "GPU"
  },
  "cells": [
    {
      "cell_type": "markdown",
      "source": [
        "# Importing necessary classes and packages"
      ],
      "metadata": {
        "id": "jKoPFasV4_BD"
      }
    },
    {
      "cell_type": "code",
      "source": [
        "import pandas as pd\n",
        "from skimage.io import imread\n",
        "from skimage.transform import resize\n",
        "import os\n",
        "import numpy as np\n",
        "from keras.models import Sequential\n",
        "from keras.layers import Dense,Conv2D,MaxPool2D,Flatten"
      ],
      "metadata": {
        "id": "NzAa5rdMemTf"
      },
      "execution_count": 34,
      "outputs": []
    },
    {
      "cell_type": "markdown",
      "source": [
        "# Listing the classes used in train and test directories"
      ],
      "metadata": {
        "id": "amyDApl64-LW"
      }
    },
    {
      "cell_type": "code",
      "source": [
        "os.listdir('/content/drive/MyDrive/Data/cervical fracture/train')"
      ],
      "metadata": {
        "colab": {
          "base_uri": "https://localhost:8080/"
        },
        "id": "T79t0bDxf10b",
        "outputId": "0e910606-cd1a-491a-b8b3-8de927786ff6"
      },
      "execution_count": 35,
      "outputs": [
        {
          "output_type": "execute_result",
          "data": {
            "text/plain": [
              "['fracture', 'normal']"
            ]
          },
          "metadata": {},
          "execution_count": 35
        }
      ]
    },
    {
      "cell_type": "code",
      "source": [
        "os.listdir('/content/drive/MyDrive/Data/cervical fracture/val')"
      ],
      "metadata": {
        "colab": {
          "base_uri": "https://localhost:8080/"
        },
        "id": "Z8Jpsa38f-rr",
        "outputId": "95d7b51f-b5ad-44f6-a440-7fdfb8e13422"
      },
      "execution_count": 36,
      "outputs": [
        {
          "output_type": "execute_result",
          "data": {
            "text/plain": [
              "['normal', 'fracture']"
            ]
          },
          "metadata": {},
          "execution_count": 36
        }
      ]
    },
    {
      "cell_type": "code",
      "source": [
        "datadir='/content/drive/MyDrive/Data/cervical fracture/train'"
      ],
      "metadata": {
        "id": "c1WWKXPzgQKO"
      },
      "execution_count": 37,
      "outputs": []
    },
    {
      "cell_type": "markdown",
      "source": [
        "# Loading the images for training"
      ],
      "metadata": {
        "id": "a2gI2xna5hdT"
      }
    },
    {
      "cell_type": "code",
      "source": [
        "x_train=[]\n",
        "y_train=[]\n",
        "Categories=['fracture', 'normal']\n",
        "for i in Categories:\n",
        "  print(\"Loading......\",i)\n",
        "  path=os.path.join(datadir,i)\n",
        "  # print(path)\n",
        "  images=os.listdir(path)\n",
        "  # print(images)\n",
        "  for img in images:\n",
        "    img_path=os.path.join(path,img)\n",
        "    # print(img_path)\n",
        "    img_arr=imread(img_path)\n",
        "    img_resized=resize(img_arr,(150,150,1))\n",
        "    x_train.append(img_resized)\n",
        "    y_train.append(Categories.index(i))\n",
        "  print(\"Completed.......\",i)"
      ],
      "metadata": {
        "colab": {
          "base_uri": "https://localhost:8080/"
        },
        "id": "lT8H_4ZAg0M2",
        "outputId": "c565c5ee-e831-4b0e-ba93-90476a325a68"
      },
      "execution_count": 38,
      "outputs": [
        {
          "output_type": "stream",
          "name": "stdout",
          "text": [
            "Loading...... fracture\n",
            "Completed....... fracture\n",
            "Loading...... normal\n",
            "Completed....... normal\n"
          ]
        }
      ]
    },
    {
      "cell_type": "code",
      "source": [
        "img_arr.shape"
      ],
      "metadata": {
        "id": "VfHUGZP0nGk2",
        "colab": {
          "base_uri": "https://localhost:8080/"
        },
        "outputId": "d96160c9-00b4-4131-94e3-a498e201760d"
      },
      "execution_count": 39,
      "outputs": [
        {
          "output_type": "execute_result",
          "data": {
            "text/plain": [
              "(224, 224, 3)"
            ]
          },
          "metadata": {},
          "execution_count": 39
        }
      ]
    },
    {
      "cell_type": "code",
      "source": [
        "img_resized.shape"
      ],
      "metadata": {
        "id": "aIPhA5a3nKQJ",
        "colab": {
          "base_uri": "https://localhost:8080/"
        },
        "outputId": "d27ec06d-0524-4296-f84d-2d26b57b1100"
      },
      "execution_count": 40,
      "outputs": [
        {
          "output_type": "execute_result",
          "data": {
            "text/plain": [
              "(150, 150, 1)"
            ]
          },
          "metadata": {},
          "execution_count": 40
        }
      ]
    },
    {
      "cell_type": "code",
      "source": [
        "img_arr"
      ],
      "metadata": {
        "id": "Vj4fmgY5nRTO",
        "colab": {
          "base_uri": "https://localhost:8080/",
          "height": 265
        },
        "outputId": "64824761-02b6-41ac-9118-cbf1eb74d4cc"
      },
      "execution_count": 41,
      "outputs": [
        {
          "output_type": "execute_result",
          "data": {
            "text/plain": [
              "array([[[0, 0, 0],\n",
              "        [0, 0, 0],\n",
              "        [0, 0, 0],\n",
              "        ...,\n",
              "        [0, 0, 0],\n",
              "        [0, 0, 0],\n",
              "        [0, 0, 0]],\n",
              "\n",
              "       [[0, 0, 0],\n",
              "        [0, 0, 0],\n",
              "        [0, 0, 0],\n",
              "        ...,\n",
              "        [0, 0, 0],\n",
              "        [0, 0, 0],\n",
              "        [0, 0, 0]],\n",
              "\n",
              "       [[0, 0, 0],\n",
              "        [0, 0, 0],\n",
              "        [0, 0, 0],\n",
              "        ...,\n",
              "        [0, 0, 0],\n",
              "        [0, 0, 0],\n",
              "        [0, 0, 0]],\n",
              "\n",
              "       ...,\n",
              "\n",
              "       [[0, 0, 0],\n",
              "        [0, 0, 0],\n",
              "        [0, 0, 0],\n",
              "        ...,\n",
              "        [0, 0, 0],\n",
              "        [0, 0, 0],\n",
              "        [0, 0, 0]],\n",
              "\n",
              "       [[0, 0, 0],\n",
              "        [0, 0, 0],\n",
              "        [0, 0, 0],\n",
              "        ...,\n",
              "        [0, 0, 0],\n",
              "        [0, 0, 0],\n",
              "        [0, 0, 0]],\n",
              "\n",
              "       [[0, 0, 0],\n",
              "        [0, 0, 0],\n",
              "        [0, 0, 0],\n",
              "        ...,\n",
              "        [0, 0, 0],\n",
              "        [0, 0, 0],\n",
              "        [0, 0, 0]]], dtype=uint8)"
            ],
            "text/html": [
              "<style>\n",
              "      .ndarray_repr .ndarray_raw_data {\n",
              "        display: none;\n",
              "      }\n",
              "      .ndarray_repr.show_array .ndarray_raw_data {\n",
              "        display: block;\n",
              "      }\n",
              "      .ndarray_repr.show_array .ndarray_image_preview {\n",
              "        display: none;\n",
              "      }\n",
              "      </style>\n",
              "      <div id=\"id-2089c1fd-c23b-474c-830b-100f02d96018\" class=\"ndarray_repr\"><pre>ndarray (224, 224, 3) <button style=\"padding: 0 2px;\">show data</button></pre><img src=\"data:image/png;base64,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\" class=\"ndarray_image_preview\" /><pre class=\"ndarray_raw_data\">array([[[0, 0, 0],\n",
              "        [0, 0, 0],\n",
              "        [0, 0, 0],\n",
              "        ...,\n",
              "        [0, 0, 0],\n",
              "        [0, 0, 0],\n",
              "        [0, 0, 0]],\n",
              "\n",
              "       [[0, 0, 0],\n",
              "        [0, 0, 0],\n",
              "        [0, 0, 0],\n",
              "        ...,\n",
              "        [0, 0, 0],\n",
              "        [0, 0, 0],\n",
              "        [0, 0, 0]],\n",
              "\n",
              "       [[0, 0, 0],\n",
              "        [0, 0, 0],\n",
              "        [0, 0, 0],\n",
              "        ...,\n",
              "        [0, 0, 0],\n",
              "        [0, 0, 0],\n",
              "        [0, 0, 0]],\n",
              "\n",
              "       ...,\n",
              "\n",
              "       [[0, 0, 0],\n",
              "        [0, 0, 0],\n",
              "        [0, 0, 0],\n",
              "        ...,\n",
              "        [0, 0, 0],\n",
              "        [0, 0, 0],\n",
              "        [0, 0, 0]],\n",
              "\n",
              "       [[0, 0, 0],\n",
              "        [0, 0, 0],\n",
              "        [0, 0, 0],\n",
              "        ...,\n",
              "        [0, 0, 0],\n",
              "        [0, 0, 0],\n",
              "        [0, 0, 0]],\n",
              "\n",
              "       [[0, 0, 0],\n",
              "        [0, 0, 0],\n",
              "        [0, 0, 0],\n",
              "        ...,\n",
              "        [0, 0, 0],\n",
              "        [0, 0, 0],\n",
              "        [0, 0, 0]]], dtype=uint8)</pre></div><script>\n",
              "      (() => {\n",
              "      const titles = ['show data', 'hide data'];\n",
              "      let index = 0\n",
              "      document.querySelector('#id-2089c1fd-c23b-474c-830b-100f02d96018 button').onclick = (e) => {\n",
              "        document.querySelector('#id-2089c1fd-c23b-474c-830b-100f02d96018').classList.toggle('show_array');\n",
              "        index = (++index) % 2;\n",
              "        document.querySelector('#id-2089c1fd-c23b-474c-830b-100f02d96018 button').textContent = titles[index];\n",
              "        e.preventDefault();\n",
              "        e.stopPropagation();\n",
              "      }\n",
              "      })();\n",
              "    </script>"
            ]
          },
          "metadata": {},
          "execution_count": 41
        }
      ]
    },
    {
      "cell_type": "code",
      "source": [
        "img_resized"
      ],
      "metadata": {
        "id": "LUUsP4AUnWuL",
        "colab": {
          "base_uri": "https://localhost:8080/"
        },
        "outputId": "e7ab1644-04ac-4065-b371-e831fb845205"
      },
      "execution_count": 42,
      "outputs": [
        {
          "output_type": "execute_result",
          "data": {
            "text/plain": [
              "array([[[0.],\n",
              "        [0.],\n",
              "        [0.],\n",
              "        ...,\n",
              "        [0.],\n",
              "        [0.],\n",
              "        [0.]],\n",
              "\n",
              "       [[0.],\n",
              "        [0.],\n",
              "        [0.],\n",
              "        ...,\n",
              "        [0.],\n",
              "        [0.],\n",
              "        [0.]],\n",
              "\n",
              "       [[0.],\n",
              "        [0.],\n",
              "        [0.],\n",
              "        ...,\n",
              "        [0.],\n",
              "        [0.],\n",
              "        [0.]],\n",
              "\n",
              "       ...,\n",
              "\n",
              "       [[0.],\n",
              "        [0.],\n",
              "        [0.],\n",
              "        ...,\n",
              "        [0.],\n",
              "        [0.],\n",
              "        [0.]],\n",
              "\n",
              "       [[0.],\n",
              "        [0.],\n",
              "        [0.],\n",
              "        ...,\n",
              "        [0.],\n",
              "        [0.],\n",
              "        [0.]],\n",
              "\n",
              "       [[0.],\n",
              "        [0.],\n",
              "        [0.],\n",
              "        ...,\n",
              "        [0.],\n",
              "        [0.],\n",
              "        [0.]]])"
            ]
          },
          "metadata": {},
          "execution_count": 42
        }
      ]
    },
    {
      "cell_type": "markdown",
      "source": [
        "# Loading the images for testing"
      ],
      "metadata": {
        "id": "cCE5bK3p5sA4"
      }
    },
    {
      "cell_type": "code",
      "source": [
        "x_test=[]\n",
        "y_test=[]\n",
        "Categories=['fracture', 'normal']\n",
        "datadir='/content/drive/MyDrive/Data/cervical fracture/val'\n",
        "for i in Categories:\n",
        "  print(\"Loading......\",i)\n",
        "  path=os.path.join(datadir,i)\n",
        "  # print(path)\n",
        "  images=os.listdir(path)\n",
        "  # print(images)\n",
        "  for img in images:\n",
        "    img_path=os.path.join(path,img)\n",
        "    # print(img_path)\n",
        "    img_arr=imread(img_path)\n",
        "    img_resized=resize(img_arr,(150,150,1))\n",
        "    x_test.append(img_resized)\n",
        "    y_test.append(Categories.index(i))\n",
        "  print(\"Completed.......\",i)"
      ],
      "metadata": {
        "colab": {
          "base_uri": "https://localhost:8080/"
        },
        "id": "WYpv9gu5ofMf",
        "outputId": "4a342ba1-86b5-4095-ae1c-88172baaa5e2"
      },
      "execution_count": 43,
      "outputs": [
        {
          "output_type": "stream",
          "name": "stdout",
          "text": [
            "Loading...... fracture\n",
            "Completed....... fracture\n",
            "Loading...... normal\n",
            "Completed....... normal\n"
          ]
        }
      ]
    },
    {
      "cell_type": "markdown",
      "source": [
        "# Converting these datas to array"
      ],
      "metadata": {
        "id": "Hog23nWz6Avv"
      }
    },
    {
      "cell_type": "code",
      "source": [
        "x_train=np.array(x_train)\n",
        "y_train=np.array(y_train)\n",
        "x_test=np.array(x_test)\n",
        "y_test=np.array(y_test)"
      ],
      "metadata": {
        "id": "_hlo1sZ1q9W5"
      },
      "execution_count": 44,
      "outputs": []
    },
    {
      "cell_type": "code",
      "source": [
        "x_train.shape"
      ],
      "metadata": {
        "colab": {
          "base_uri": "https://localhost:8080/"
        },
        "id": "wiF9_rVZrY7w",
        "outputId": "f06d8f37-fe38-45c3-9a42-3d9842436145"
      },
      "execution_count": 45,
      "outputs": [
        {
          "output_type": "execute_result",
          "data": {
            "text/plain": [
              "(3800, 150, 150, 1)"
            ]
          },
          "metadata": {},
          "execution_count": 45
        }
      ]
    },
    {
      "cell_type": "code",
      "source": [
        "x_test.shape"
      ],
      "metadata": {
        "colab": {
          "base_uri": "https://localhost:8080/"
        },
        "id": "xId-vsvErfI4",
        "outputId": "bf4e8082-0418-412c-fe7b-1c742568221b"
      },
      "execution_count": 46,
      "outputs": [
        {
          "output_type": "execute_result",
          "data": {
            "text/plain": [
              "(400, 150, 150, 1)"
            ]
          },
          "metadata": {},
          "execution_count": 46
        }
      ]
    },
    {
      "cell_type": "markdown",
      "source": [
        "# Adding input, pooling, convolution,flatten, hidden, and output layers for CNN"
      ],
      "metadata": {
        "id": "fFFpfJFt6Hnx"
      }
    },
    {
      "cell_type": "code",
      "source": [
        "model = Sequential()\n",
        "model.add(Conv2D(32,(3,3),input_shape=(150,150,1),activation='relu'))\n",
        "model.add(MaxPool2D(2,2))\n",
        "model.add(Conv2D(32,(3,3),activation='relu'))\n",
        "model.add(MaxPool2D(2,2))\n",
        "model.add(Flatten())\n",
        "model.add(Dense(100,activation='relu'))\n",
        "model.add(Dense(2,activation='softmax'))"
      ],
      "metadata": {
        "id": "MLG8ivytl7Lr"
      },
      "execution_count": 47,
      "outputs": []
    },
    {
      "cell_type": "markdown",
      "source": [
        "# Compiling the model"
      ],
      "metadata": {
        "id": "sRV4E3MY6l5B"
      }
    },
    {
      "cell_type": "code",
      "source": [
        "model.compile(optimizer='adam',loss='sparse_categorical_crossentropy',metrics=['accuracy'])"
      ],
      "metadata": {
        "id": "dNp95iNKnHeL"
      },
      "execution_count": 48,
      "outputs": []
    },
    {
      "cell_type": "markdown",
      "source": [
        "# Fitting the model"
      ],
      "metadata": {
        "id": "3SBoAyMe6sqU"
      }
    },
    {
      "cell_type": "code",
      "source": [
        "model.fit(x_train,y_train,epochs=20,batch_size=20)"
      ],
      "metadata": {
        "colab": {
          "base_uri": "https://localhost:8080/"
        },
        "id": "F2FYeMH5nnpx",
        "outputId": "25d1d022-a40d-449a-d692-1879b0dd8d92"
      },
      "execution_count": 49,
      "outputs": [
        {
          "output_type": "stream",
          "name": "stdout",
          "text": [
            "Epoch 1/20\n",
            "190/190 [==============================] - 4s 10ms/step - loss: 0.1153 - accuracy: 0.9518\n",
            "Epoch 2/20\n",
            "190/190 [==============================] - 2s 9ms/step - loss: 0.0012 - accuracy: 0.9997\n",
            "Epoch 3/20\n",
            "190/190 [==============================] - 2s 9ms/step - loss: 0.0028 - accuracy: 0.9995\n",
            "Epoch 4/20\n",
            "190/190 [==============================] - 2s 9ms/step - loss: 0.0144 - accuracy: 0.9963\n",
            "Epoch 5/20\n",
            "190/190 [==============================] - 2s 9ms/step - loss: 0.0012 - accuracy: 0.9997\n",
            "Epoch 6/20\n",
            "190/190 [==============================] - 2s 9ms/step - loss: 1.2519e-04 - accuracy: 1.0000\n",
            "Epoch 7/20\n",
            "190/190 [==============================] - 2s 10ms/step - loss: 6.8317e-05 - accuracy: 1.0000\n",
            "Epoch 8/20\n",
            "190/190 [==============================] - 2s 10ms/step - loss: 3.3230e-05 - accuracy: 1.0000\n",
            "Epoch 9/20\n",
            "190/190 [==============================] - 2s 9ms/step - loss: 2.0213e-05 - accuracy: 1.0000\n",
            "Epoch 10/20\n",
            "190/190 [==============================] - 2s 9ms/step - loss: 1.3098e-05 - accuracy: 1.0000\n",
            "Epoch 11/20\n",
            "190/190 [==============================] - 2s 9ms/step - loss: 9.9324e-06 - accuracy: 1.0000\n",
            "Epoch 12/20\n",
            "190/190 [==============================] - 2s 9ms/step - loss: 7.8595e-06 - accuracy: 1.0000\n",
            "Epoch 13/20\n",
            "190/190 [==============================] - 2s 10ms/step - loss: 6.6471e-06 - accuracy: 1.0000\n",
            "Epoch 14/20\n",
            "190/190 [==============================] - 2s 13ms/step - loss: 5.3727e-06 - accuracy: 1.0000\n",
            "Epoch 15/20\n",
            "190/190 [==============================] - 2s 11ms/step - loss: 4.6017e-06 - accuracy: 1.0000\n",
            "Epoch 16/20\n",
            "190/190 [==============================] - 2s 10ms/step - loss: 4.0649e-06 - accuracy: 1.0000\n",
            "Epoch 17/20\n",
            "190/190 [==============================] - 2s 10ms/step - loss: 3.5183e-06 - accuracy: 1.0000\n",
            "Epoch 18/20\n",
            "190/190 [==============================] - 2s 9ms/step - loss: 3.1366e-06 - accuracy: 1.0000\n",
            "Epoch 19/20\n",
            "190/190 [==============================] - 2s 9ms/step - loss: 2.7571e-06 - accuracy: 1.0000\n",
            "Epoch 20/20\n",
            "190/190 [==============================] - 2s 9ms/step - loss: 2.5028e-06 - accuracy: 1.0000\n"
          ]
        },
        {
          "output_type": "execute_result",
          "data": {
            "text/plain": [
              "<keras.src.callbacks.History at 0x7899e36be500>"
            ]
          },
          "metadata": {},
          "execution_count": 49
        }
      ]
    },
    {
      "cell_type": "markdown",
      "source": [
        "# Evaluating loss and accuracy of the test datas"
      ],
      "metadata": {
        "id": "_3dj9qqu6yW5"
      }
    },
    {
      "cell_type": "code",
      "source": [
        "loss,accuracy=model.evaluate(x_test,y_test)\n",
        "print(\"Loss:\",loss)\n",
        "print(\"Accuracy:\",accuracy)"
      ],
      "metadata": {
        "colab": {
          "base_uri": "https://localhost:8080/"
        },
        "id": "tJh7YKpDpvcC",
        "outputId": "91216036-7405-46bf-e546-f2a197ce1c8d"
      },
      "execution_count": 50,
      "outputs": [
        {
          "output_type": "stream",
          "name": "stdout",
          "text": [
            "13/13 [==============================] - 0s 5ms/step - loss: 0.0071 - accuracy: 1.0000\n",
            "Loss: 0.007145884446799755\n",
            "Accuracy: 1.0\n"
          ]
        }
      ]
    },
    {
      "cell_type": "markdown",
      "source": [
        "# Reading an image from the test directory"
      ],
      "metadata": {
        "id": "rXCxcnEF69CS"
      }
    },
    {
      "cell_type": "code",
      "source": [
        "img=imread('/content/drive/MyDrive/Data/cervical fracture/val/fracture/CSFDV1B10 (1)-rotated3-rotated1.png')\n",
        "img"
      ],
      "metadata": {
        "colab": {
          "base_uri": "https://localhost:8080/",
          "height": 265
        },
        "id": "jaw54mhuq3SY",
        "outputId": "1c2c52fe-bd76-4374-8219-82d594b824e4"
      },
      "execution_count": 51,
      "outputs": [
        {
          "output_type": "execute_result",
          "data": {
            "text/plain": [
              "array([[[0, 0, 0],\n",
              "        [0, 0, 0],\n",
              "        [0, 0, 0],\n",
              "        ...,\n",
              "        [0, 0, 0],\n",
              "        [0, 0, 0],\n",
              "        [0, 0, 0]],\n",
              "\n",
              "       [[0, 0, 0],\n",
              "        [0, 0, 0],\n",
              "        [0, 0, 0],\n",
              "        ...,\n",
              "        [0, 0, 0],\n",
              "        [0, 0, 0],\n",
              "        [0, 0, 0]],\n",
              "\n",
              "       [[0, 0, 0],\n",
              "        [0, 0, 0],\n",
              "        [0, 0, 0],\n",
              "        ...,\n",
              "        [0, 0, 0],\n",
              "        [0, 0, 0],\n",
              "        [0, 0, 0]],\n",
              "\n",
              "       ...,\n",
              "\n",
              "       [[0, 0, 0],\n",
              "        [0, 0, 0],\n",
              "        [0, 0, 0],\n",
              "        ...,\n",
              "        [0, 0, 0],\n",
              "        [0, 0, 0],\n",
              "        [0, 0, 0]],\n",
              "\n",
              "       [[0, 0, 0],\n",
              "        [0, 0, 0],\n",
              "        [0, 0, 0],\n",
              "        ...,\n",
              "        [0, 0, 0],\n",
              "        [0, 0, 0],\n",
              "        [0, 0, 0]],\n",
              "\n",
              "       [[0, 0, 0],\n",
              "        [0, 0, 0],\n",
              "        [0, 0, 0],\n",
              "        ...,\n",
              "        [0, 0, 0],\n",
              "        [0, 0, 0],\n",
              "        [0, 0, 0]]], dtype=uint8)"
            ],
            "text/html": [
              "<style>\n",
              "      .ndarray_repr .ndarray_raw_data {\n",
              "        display: none;\n",
              "      }\n",
              "      .ndarray_repr.show_array .ndarray_raw_data {\n",
              "        display: block;\n",
              "      }\n",
              "      .ndarray_repr.show_array .ndarray_image_preview {\n",
              "        display: none;\n",
              "      }\n",
              "      </style>\n",
              "      <div id=\"id-3e404487-4c1a-494d-a6a4-5b2f791ba602\" class=\"ndarray_repr\"><pre>ndarray (224, 224, 3) <button style=\"padding: 0 2px;\">show data</button></pre><img src=\"data:image/png;base64,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\" class=\"ndarray_image_preview\" /><pre class=\"ndarray_raw_data\">array([[[0, 0, 0],\n",
              "        [0, 0, 0],\n",
              "        [0, 0, 0],\n",
              "        ...,\n",
              "        [0, 0, 0],\n",
              "        [0, 0, 0],\n",
              "        [0, 0, 0]],\n",
              "\n",
              "       [[0, 0, 0],\n",
              "        [0, 0, 0],\n",
              "        [0, 0, 0],\n",
              "        ...,\n",
              "        [0, 0, 0],\n",
              "        [0, 0, 0],\n",
              "        [0, 0, 0]],\n",
              "\n",
              "       [[0, 0, 0],\n",
              "        [0, 0, 0],\n",
              "        [0, 0, 0],\n",
              "        ...,\n",
              "        [0, 0, 0],\n",
              "        [0, 0, 0],\n",
              "        [0, 0, 0]],\n",
              "\n",
              "       ...,\n",
              "\n",
              "       [[0, 0, 0],\n",
              "        [0, 0, 0],\n",
              "        [0, 0, 0],\n",
              "        ...,\n",
              "        [0, 0, 0],\n",
              "        [0, 0, 0],\n",
              "        [0, 0, 0]],\n",
              "\n",
              "       [[0, 0, 0],\n",
              "        [0, 0, 0],\n",
              "        [0, 0, 0],\n",
              "        ...,\n",
              "        [0, 0, 0],\n",
              "        [0, 0, 0],\n",
              "        [0, 0, 0]],\n",
              "\n",
              "       [[0, 0, 0],\n",
              "        [0, 0, 0],\n",
              "        [0, 0, 0],\n",
              "        ...,\n",
              "        [0, 0, 0],\n",
              "        [0, 0, 0],\n",
              "        [0, 0, 0]]], dtype=uint8)</pre></div><script>\n",
              "      (() => {\n",
              "      const titles = ['show data', 'hide data'];\n",
              "      let index = 0\n",
              "      document.querySelector('#id-3e404487-4c1a-494d-a6a4-5b2f791ba602 button').onclick = (e) => {\n",
              "        document.querySelector('#id-3e404487-4c1a-494d-a6a4-5b2f791ba602').classList.toggle('show_array');\n",
              "        index = (++index) % 2;\n",
              "        document.querySelector('#id-3e404487-4c1a-494d-a6a4-5b2f791ba602 button').textContent = titles[index];\n",
              "        e.preventDefault();\n",
              "        e.stopPropagation();\n",
              "      }\n",
              "      })();\n",
              "    </script>"
            ]
          },
          "metadata": {},
          "execution_count": 51
        }
      ]
    },
    {
      "cell_type": "markdown",
      "source": [
        "# Resizing the image"
      ],
      "metadata": {
        "id": "LERHCAJU7GBS"
      }
    },
    {
      "cell_type": "code",
      "source": [
        "img=resize(img,(150,150,1))\n",
        "img.shape"
      ],
      "metadata": {
        "colab": {
          "base_uri": "https://localhost:8080/"
        },
        "id": "CT-OCwfiseEI",
        "outputId": "f96ea6f8-0e1b-424a-942f-3c513354ec5f"
      },
      "execution_count": 52,
      "outputs": [
        {
          "output_type": "execute_result",
          "data": {
            "text/plain": [
              "(150, 150, 1)"
            ]
          },
          "metadata": {},
          "execution_count": 52
        }
      ]
    },
    {
      "cell_type": "markdown",
      "source": [
        "# Reshaping the image"
      ],
      "metadata": {
        "id": "Xpl8mhSN7OMc"
      }
    },
    {
      "cell_type": "code",
      "source": [
        "img=img.reshape(1,150,150,1)\n",
        "img.shape"
      ],
      "metadata": {
        "colab": {
          "base_uri": "https://localhost:8080/"
        },
        "id": "FhlNjVDisv84",
        "outputId": "919ab1d3-a99e-4cae-981f-625e380bc719"
      },
      "execution_count": 53,
      "outputs": [
        {
          "output_type": "execute_result",
          "data": {
            "text/plain": [
              "(1, 150, 150, 1)"
            ]
          },
          "metadata": {},
          "execution_count": 53
        }
      ]
    },
    {
      "cell_type": "markdown",
      "source": [
        "# Predicting the output of the image"
      ],
      "metadata": {
        "id": "Ym6MlPsG7UlC"
      }
    },
    {
      "cell_type": "code",
      "source": [
        "pred=model.predict(img)\n",
        "pred"
      ],
      "metadata": {
        "colab": {
          "base_uri": "https://localhost:8080/"
        },
        "id": "xxyre_k8s6B9",
        "outputId": "228d64e7-a8d0-4a3a-c1c6-85a0240ccb24"
      },
      "execution_count": 54,
      "outputs": [
        {
          "output_type": "stream",
          "name": "stdout",
          "text": [
            "1/1 [==============================] - 0s 59ms/step\n"
          ]
        },
        {
          "output_type": "execute_result",
          "data": {
            "text/plain": [
              "array([[0.88841784, 0.11158217]], dtype=float32)"
            ]
          },
          "metadata": {},
          "execution_count": 54
        }
      ]
    },
    {
      "cell_type": "markdown",
      "source": [
        "# Predicting the index having the highest value"
      ],
      "metadata": {
        "id": "DdHd8-ia8TKG"
      }
    },
    {
      "cell_type": "code",
      "source": [
        "ind=pred.argmax(axis=1)\n",
        "ind.item()"
      ],
      "metadata": {
        "colab": {
          "base_uri": "https://localhost:8080/"
        },
        "id": "hmYeCGR_tCu6",
        "outputId": "dc7c1c53-a3ab-436b-9b83-4f7f513a452e"
      },
      "execution_count": 55,
      "outputs": [
        {
          "output_type": "execute_result",
          "data": {
            "text/plain": [
              "0"
            ]
          },
          "metadata": {},
          "execution_count": 55
        }
      ]
    },
    {
      "cell_type": "markdown",
      "source": [
        "# Printing the value of that index which is the class that image belongs to"
      ],
      "metadata": {
        "id": "nKGeoOVD81zw"
      }
    },
    {
      "cell_type": "code",
      "source": [
        "print(\"Cervical Fracture Status:\",Categories[ind.item()])"
      ],
      "metadata": {
        "colab": {
          "base_uri": "https://localhost:8080/"
        },
        "id": "G5m-MhrntJ9T",
        "outputId": "fba383ab-fd2a-4f67-edc3-0156dce99d05"
      },
      "execution_count": 56,
      "outputs": [
        {
          "output_type": "stream",
          "name": "stdout",
          "text": [
            "Cervical Fracture Status: fracture\n"
          ]
        }
      ]
    },
    {
      "cell_type": "code",
      "source": [
        "# import pickle\n",
        "# pickle.dump(model,open('model_fracture.h5','wb'))"
      ],
      "metadata": {
        "id": "wg2JBaElrDvj"
      },
      "execution_count": 57,
      "outputs": []
    },
    {
      "cell_type": "markdown",
      "source": [
        "# Saving the model"
      ],
      "metadata": {
        "id": "dKY5_pzE9Dnh"
      }
    },
    {
      "cell_type": "code",
      "source": [
        "model.save('model_fracture2.h5')"
      ],
      "metadata": {
        "colab": {
          "base_uri": "https://localhost:8080/"
        },
        "id": "CxWYJsA4RgGm",
        "outputId": "cb94e7ff-68ef-412c-a34d-60abb27da21f"
      },
      "execution_count": 58,
      "outputs": [
        {
          "output_type": "stream",
          "name": "stderr",
          "text": [
            "/usr/local/lib/python3.10/dist-packages/keras/src/engine/training.py:3103: UserWarning: You are saving your model as an HDF5 file via `model.save()`. This file format is considered legacy. We recommend using instead the native Keras format, e.g. `model.save('my_model.keras')`.\n",
            "  saving_api.save_model(\n"
          ]
        }
      ]
    }
  ]
}